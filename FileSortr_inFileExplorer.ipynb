{
 "cells": [
  {
   "cell_type": "markdown",
   "id": "aac7fde1-3117-47e7-bd50-20645c0e5942",
   "metadata": {},
   "source": [
    "# FILE SORTER IN FILE EXPLORER\n",
    "# Imagin having 10000 files,you have to sort them based on their type"
   ]
  },
  {
   "cell_type": "code",
   "execution_count": 105,
   "id": "d594872a-e211-4536-917c-a4ddfb45f54a",
   "metadata": {},
   "outputs": [],
   "source": [
    "import os,shutil\n",
    "\n",
    "#importing for operating system and doing high level operations on systems and files"
   ]
  },
  {
   "cell_type": "code",
   "execution_count": 107,
   "id": "bb7ab810-8b55-4be8-beb9-832d23702b49",
   "metadata": {},
   "outputs": [],
   "source": [
    "path=r\"C:/Users/amirk/OneDrive/Desktop/FULLSTACK/DATAANALYZ/DataAnalyzeBootcamp/Python/Automatic-file-sorter/\""
   ]
  },
  {
   "cell_type": "code",
   "execution_count": 109,
   "id": "2d478054-224b-43f0-918a-ca3d4f570bf1",
   "metadata": {},
   "outputs": [],
   "source": [
    "file_name=os.listdir(path) \n",
    "#show us all the files in their"
   ]
  },
  {
   "cell_type": "code",
   "execution_count": 111,
   "id": "8028894e-8458-487a-b79a-34adb8657b10",
   "metadata": {},
   "outputs": [
    {
     "name": "stdout",
     "output_type": "stream",
     "text": [
      "C:/Users/amirk/OneDrive/Desktop/FULLSTACK/DATAANALYZ/DataAnalyzeBootcamp/Python/Automatic-file-sorter/image files\n",
      "C:/Users/amirk/OneDrive/Desktop/FULLSTACK/DATAANALYZ/DataAnalyzeBootcamp/Python/Automatic-file-sorter/writing files\n",
      "C:/Users/amirk/OneDrive/Desktop/FULLSTACK/DATAANALYZ/DataAnalyzeBootcamp/Python/Automatic-file-sorter/excel files\n"
     ]
    }
   ],
   "source": [
    "folder_names=['image files','writing files','excel files']\n",
    "for loop in range(0,3):\n",
    "    if not os.path.exists(path+folder_names[loop]): #if not exists\n",
    "        print(path+folder_names[loop])\n",
    "        os.makedirs(path+folder_names[loop]) #making directories\n",
    "        "
   ]
  },
  {
   "cell_type": "code",
   "execution_count": 113,
   "id": "189b1a9e-2567-435d-82c6-bb20e8a4deec",
   "metadata": {},
   "outputs": [],
   "source": [
    "for file in file_name : #file related to all the files that exists in the path variable\n",
    "    if \".xlsx\" in file and not os.path.exists(path+\"excel files/\"+file): #the file with name excel files has been already made in the path,\n",
    "        #so if there is any excelfile type  in the path and also there is no excelfile type in the 'excel files' add the excelfile type to\n",
    "        #to the 'excel files'\n",
    "        shutil.move(path+file,path+\"excel files/\"+file) #shutil.move(old_path,to the new_path) #shutil.move will move files into eachother\n",
    "    elif \".txt\" in file and not os.path.exists(path+\"writing files/\"+file):\n",
    "        shutil.move(path+file,path+\"writing files/\"+file)\n",
    "    elif \".png\" in file and not os.path.exists(path+\"image files/\"+file):\n",
    "        shutil.move(path+file,path+\"image files/\"+file)\n"
   ]
  },
  {
   "cell_type": "code",
   "execution_count": null,
   "id": "6833b44c-89bb-46d3-a1fd-875f319f3314",
   "metadata": {},
   "outputs": [],
   "source": []
  },
  {
   "cell_type": "code",
   "execution_count": null,
   "id": "afb2c042-41a8-4c50-bf7d-46be5a5c9381",
   "metadata": {},
   "outputs": [],
   "source": []
  },
  {
   "cell_type": "code",
   "execution_count": null,
   "id": "683edf25-9e66-42f7-a121-3a032b9b91df",
   "metadata": {},
   "outputs": [],
   "source": []
  }
 ],
 "metadata": {
  "kernelspec": {
   "display_name": "Python 3 (ipykernel)",
   "language": "python",
   "name": "python3"
  },
  "language_info": {
   "codemirror_mode": {
    "name": "ipython",
    "version": 3
   },
   "file_extension": ".py",
   "mimetype": "text/x-python",
   "name": "python",
   "nbconvert_exporter": "python",
   "pygments_lexer": "ipython3",
   "version": "3.12.4"
  }
 },
 "nbformat": 4,
 "nbformat_minor": 5
}
